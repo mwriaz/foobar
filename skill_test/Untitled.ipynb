{
 "cells": [
  {
   "cell_type": "code",
   "execution_count": 3,
   "id": "71a78c06",
   "metadata": {},
   "outputs": [
    {
     "data": {
      "text/plain": [
       "{'1': {'input': '\"vmxibkgrlm\"',\n",
       "  'output': '\"encryption\"',\n",
       "  'hidden': False,\n",
       "  'score_points': 1},\n",
       " '2': {'input': \"wrw blf hvv ozhg mrtsg'h vkrhlwv?\",\n",
       "  'output': \"did you see last night's episode?\",\n",
       "  'hidden': False,\n",
       "  'score_points': 1},\n",
       " '3': {'input': \"Yvzs! I xzm'g yvorvev Lzmxv olhg srh qly zg gsv xlolmb!!\",\n",
       "  'output': \"Yeah! I can't believe Lance lost his job at the colony!!\",\n",
       "  'hidden': True,\n",
       "  'score_points': 2}}"
      ]
     },
     "execution_count": 3,
     "metadata": {},
     "output_type": "execute_result"
    }
   ],
   "source": [
    "json.load(open(\"untitled.txt\"))"
   ]
  },
  {
   "cell_type": "code",
   "execution_count": 6,
   "id": "b027ff19",
   "metadata": {},
   "outputs": [
    {
     "data": {
      "text/plain": [
       "{'1': {'input': [1, 2, 3], 'output': 6, 'hidden': False, 'score_points': 1},\n",
       " '2': {'input': [0], 'output': 0, 'hidden': False, 'score_points': 1},\n",
       " '3': {'input': [], 'output': 0, 'hidden': True, 'score_points': 5},\n",
       " '4': {'input': [5, 5, 5, 5, 5],\n",
       "  'output': 25,\n",
       "  'hidden': True,\n",
       "  'score_points': 1},\n",
       " '5': {'input': [1010431, 143123],\n",
       "  'output': 1153554,\n",
       "  'hidden': True,\n",
       "  'score_points': 1},\n",
       " '6': {'input': [3, 3, 3, 3, 3, 3, 3, 3, 3, 3],\n",
       "  'output': 30,\n",
       "  'hidden': True,\n",
       "  'score_points': 1},\n",
       " '7': {'input': [1, 1, 1, 1, 1],\n",
       "  'output': 5,\n",
       "  'hidden': True,\n",
       "  'score_points': 1},\n",
       " '8': {'input': [-5, 6], 'output': 1, 'hidden': True, 'score_points': 1},\n",
       " '9': {'input': [9, 8, -8, -9],\n",
       "  'output': 0,\n",
       "  'hidden': True,\n",
       "  'score_points': 1},\n",
       " '10': {'input': [1], 'output': 1, 'hidden': True, 'score_points': 3}}"
      ]
     },
     "execution_count": 6,
     "metadata": {},
     "output_type": "execute_result"
    }
   ],
   "source": [
    "text = \"\"\"{\"1\": {\"input\": [1, 2, 3], \"output\": 6, \"hidden\": false, \"score_points\": 1}, \"2\": {\"input\": [0], \"output\": 0, \"hidden\": false, \"score_points\": 1}, \"3\": {\"input\": [], \"output\": 0, \"hidden\": true, \"score_points\": 5}, \"4\": {\"input\": [5, 5, 5, 5, 5], \"output\": 25, \"hidden\": true, \"score_points\": 1}, \"5\": {\"input\": [1010431, 143123], \"output\": 1153554, \"hidden\": true, \"score_points\": 1}, \"6\": {\"input\": [3, 3, 3, 3, 3, 3, 3, 3, 3, 3], \"output\": 30, \"hidden\": true, \"score_points\": 1}, \"7\": {\"input\": [1, 1, 1, 1, 1], \"output\": 5, \"hidden\": true, \"score_points\": 1}, \"8\": {\"input\": [-5, 6], \"output\": 1, \"hidden\": true, \"score_points\": 1}, \"9\": {\"input\": [9, 8, -8, -9], \"output\": 0, \"hidden\": true, \"score_points\": 1}, \"10\": {\"input\": [1], \"output\": 1, \"hidden\": true, \"score_points\": 3}}\"\"\"\n",
    "\n",
    "\n",
    "json.loads(text)"
   ]
  },
  {
   "cell_type": "code",
   "execution_count": null,
   "id": "5daaa2f0",
   "metadata": {},
   "outputs": [],
   "source": []
  }
 ],
 "metadata": {
  "kernelspec": {
   "display_name": "Python 3 (ipykernel)",
   "language": "python",
   "name": "python3"
  },
  "language_info": {
   "codemirror_mode": {
    "name": "ipython",
    "version": 3
   },
   "file_extension": ".py",
   "mimetype": "text/x-python",
   "name": "python",
   "nbconvert_exporter": "python",
   "pygments_lexer": "ipython3",
   "version": "3.9.13"
  }
 },
 "nbformat": 4,
 "nbformat_minor": 5
}
